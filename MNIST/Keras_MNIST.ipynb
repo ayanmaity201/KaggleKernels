{
  "cells": [
    {
      "metadata": {
        "_cell_guid": "73580c93-ea70-4f6a-8e0d-591df4ea6f12",
        "_uuid": "8eaacd039d4d1ad1a3e4ead1d77479a8942e0024",
        "trusted": false,
        "collapsed": true
      },
      "cell_type": "code",
      "source": "# This Python 3 environment comes with many helpful analytics libraries installed\n# It is defined by the kaggle/python docker image: https://github.com/kaggle/docker-python\n# For example, here's several helpful packages to load in \n\nimport numpy as np # linear algebra\nimport pandas as pd # data processing, CSV file I/O (e.g. pd.read_csv)\n\n# Input data files are available in the \"../input/\" directory.\n# For example, running this (by clicking run or pressing Shift+Enter) will list the files in the input directory\n\nfrom subprocess import check_output\nprint(check_output([\"ls\", \"../input\"]).decode(\"utf8\"))\n\n# Any results you write to the current directory are saved as output.",
      "execution_count": null,
      "outputs": []
    },
    {
      "metadata": {
        "_cell_guid": "2f8ba792-cc28-4eb9-bca5-643d83e29b25",
        "_uuid": "cfc6df6f989e9ddcdae0a636594d6dcfd5c35534",
        "trusted": false,
        "collapsed": true
      },
      "cell_type": "code",
      "source": "train_df = pd.read_csv('../input/train.csv')\ntest_df = pd.read_csv('../input/test.csv')\ntrain_df.head()",
      "execution_count": null,
      "outputs": []
    },
    {
      "metadata": {
        "_cell_guid": "7ce90980-0399-40f3-9d08-269c367c4aa9",
        "_kg_hide-output": true,
        "collapsed": true,
        "_uuid": "365ee1e2f1bea3a881199ad91c02b5a66a68214d",
        "trusted": false
      },
      "cell_type": "code",
      "source": "target = train_df['label']\ny_train = np.zeros([42000,10])\ncount=0\nfor i in target:\n    y_train[count,i] = 1\n    count = count+1\ntrain_df = train_df.drop(['label'],axis=1)\nX_train = train_df.as_matrix()\nX_train = X_train.reshape((X_train.shape[0],28,28,1))",
      "execution_count": null,
      "outputs": []
    },
    {
      "metadata": {
        "_cell_guid": "b76825b6-ec63-44ad-a0c3-f0e42a3374ee",
        "_uuid": "c0a6ed8a3d199ed080b28a3c8e954a31c091c3ac",
        "trusted": false,
        "collapsed": true
      },
      "cell_type": "code",
      "source": "from keras import layers\nfrom keras.layers import Input, Dense, Activation, ZeroPadding2D, BatchNormalization, Flatten, Conv2D\nfrom keras.layers import AveragePooling2D, MaxPooling2D, Dropout, GlobalMaxPooling2D, GlobalAveragePooling2D\nfrom keras.models import Model\nfrom keras.preprocessing import image\nfrom keras.utils import layer_utils\nfrom keras.utils.data_utils import get_file\nfrom keras.applications.imagenet_utils import preprocess_input\n\nfrom IPython.display import SVG\nfrom keras.utils.vis_utils import model_to_dot\nfrom keras.utils import plot_model\n\nimport keras.backend as K\nK.set_image_data_format('channels_last')\nimport matplotlib.pyplot as plt\nfrom matplotlib.pyplot import imshow",
      "execution_count": null,
      "outputs": []
    },
    {
      "metadata": {
        "_cell_guid": "38263f46-2ec6-4513-aac4-e12a7144942c",
        "_uuid": "d423fd624baf3aa74e5fc8f3499302bb31b8df7d",
        "trusted": false,
        "collapsed": true
      },
      "cell_type": "code",
      "source": "plt.subplot(131)\nplt.title('label = 1')\nplt.imshow(X_train[0,:,:,0],cmap='gray')\n\nplt.subplot(132)\nplt.title('label = 0')\nplt.imshow(X_train[5,:,:,0],cmap='gray')\n\nplt.subplot(133)\nplt.title('label = 8')\nplt.imshow(X_train[10,:,:,0],cmap='gray')\n\nplt.show()",
      "execution_count": null,
      "outputs": []
    },
    {
      "metadata": {
        "_cell_guid": "f3d0c878-ca80-45ff-9762-ba7ad0057db1",
        "collapsed": true,
        "_uuid": "98c8fcd2f41605dbb796148a44ed3ddab78be9f8",
        "trusted": false
      },
      "cell_type": "code",
      "source": "def digit_model(input_shape):\n    X_in = Input(input_shape)\n    \n    X = Conv2D(16,kernel_size=(3,3),padding='same',input_shape=(28,28,1))(X_in)\n    X = BatchNormalization()(X)\n    X = Activation('relu')(X)\n    X = MaxPooling2D(pool_size=(2,2))(X)\n    \n    X = Conv2D(32,kernel_size=(3,3),padding='same')(X)\n    X = BatchNormalization()(X)\n    X = Activation('relu')(X)\n    X = MaxPooling2D(pool_size=(2,2))(X)\n    \n    X = Conv2D(64,kernel_size=(3,3),padding='same')(X)\n    X = BatchNormalization()(X)\n    X = Activation('relu')(X)\n    X = MaxPooling2D(pool_size=(2,2))(X)\n    \n    X = Flatten()(X)\n    \n    X = Dense(128)(X)\n    X = Activation('relu')(X)\n    \n    X = Dense(64)(X)\n    X = Activation('relu')(X)\n    \n    X = Dense(10)(X)\n    X = Activation('softmax')(X)\n    \n    model = Model(inputs = X_in,outputs = X , name='digit_model')\n    return model",
      "execution_count": null,
      "outputs": []
    },
    {
      "metadata": {
        "_cell_guid": "d52d173c-f05c-46cc-9b93-d732ca57ced3",
        "_uuid": "09c76f4f573c1b54de00a21e3b3f6c9f3c320f42",
        "trusted": false,
        "collapsed": true
      },
      "cell_type": "code",
      "source": "my_model = digit_model((28,28,1))\nprint(my_model)",
      "execution_count": null,
      "outputs": []
    },
    {
      "metadata": {
        "_cell_guid": "d7f84c12-b7e9-4417-8263-dc2616f642f4",
        "_uuid": "1950c152e64dcc5d43c4f46ead20fabcc03086cd",
        "trusted": false,
        "collapsed": true
      },
      "cell_type": "code",
      "source": "X_train = X_train/255\nmy_model.compile(loss='categorical_crossentropy',optimizer='adam',metrics=['accuracy'])\nmy_model.fit(x=X_train,y=y_train,epochs=20,batch_size=256)",
      "execution_count": null,
      "outputs": []
    },
    {
      "metadata": {
        "_cell_guid": "fe67f816-72ee-429e-8bbd-3f3726f01473",
        "collapsed": true,
        "_uuid": "0d63eeb0815e98e6252feac869a69285f88ab4c3",
        "trusted": false
      },
      "cell_type": "code",
      "source": "my_model.evaluate(x=X_train,y=y_train)",
      "execution_count": null,
      "outputs": []
    },
    {
      "metadata": {
        "_cell_guid": "db812da1-d31f-43b4-9603-330dcd176d76",
        "collapsed": true,
        "_uuid": "0dcfbea2d9a5ca73f053704ebeec215f8122f8b1",
        "trusted": false
      },
      "cell_type": "code",
      "source": "my_model.save('my_model_digit.h5')",
      "execution_count": null,
      "outputs": []
    },
    {
      "metadata": {
        "_cell_guid": "4f55bda6-af24-4dd4-972f-979d7c0994a4",
        "collapsed": true,
        "_uuid": "9eab8b9096f2f1c22baf2eb444a8d8650edc2a40",
        "trusted": false
      },
      "cell_type": "code",
      "source": "X_test = test_df.as_matrix()/255\nX_test = X_test.reshape((X_test.shape[0],28,28,1))",
      "execution_count": null,
      "outputs": []
    },
    {
      "metadata": {
        "_cell_guid": "43ef1cb6-7f48-498b-a5ad-16a33b721634",
        "collapsed": true,
        "_uuid": "4fc048f966ba3dfa24d81cb674f7dd2451edf956",
        "trusted": false
      },
      "cell_type": "code",
      "source": "prob = my_model.predict(x = X_test)\npredlabel = np.argmax(prob,axis=1)\nsub_df = pd.DataFrame(predlabel,columns = ['Label'])\nsub_df.reset_index(inplace=True)\nsub_df.rename(columns={'index': 'ImageId'}, inplace=True)\nsub_df['ImageId']=sub_df['ImageId']+1\nsub_df.to_csv('output.csv', index=False)",
      "execution_count": null,
      "outputs": []
    },
    {
      "metadata": {
        "_cell_guid": "f988d696-b9f2-4124-9797-3f0b758b12d3",
        "collapsed": true,
        "_uuid": "594fe733a5db8a513277cde0f820f3cee80654a5",
        "trusted": false
      },
      "cell_type": "code",
      "source": "",
      "execution_count": null,
      "outputs": []
    }
  ],
  "metadata": {
    "kernelspec": {
      "display_name": "Python 3",
      "language": "python",
      "name": "python3"
    },
    "language_info": {
      "name": "python",
      "codemirror_mode": {
        "name": "ipython",
        "version": 3
      },
      "pygments_lexer": "ipython3",
      "nbconvert_exporter": "python",
      "version": "3.6.3",
      "mimetype": "text/x-python",
      "file_extension": ".py"
    }
  },
  "nbformat": 4,
  "nbformat_minor": 1
}