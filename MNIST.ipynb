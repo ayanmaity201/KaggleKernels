{
 "cells": [
  {
   "cell_type": "markdown",
   "metadata": {},
   "source": [
    "# HandWritten Digit Recognition using MLPCassifier"
   ]
  },
  {
   "cell_type": "markdown",
   "metadata": {},
   "source": [
    "In this notebook I am going to develop a very simple handwritten digit recognition system using MLPClassifier from sklearn. MLPClassifier(Multi Layer Perceptron Classifier) is nothing but a neural network classifier.The dataset that I am using is a very popular MNIST dataset ,which is a standard dataset for implementing different ML algorithms and for computer vision beginners."
   ]
  },
  {
   "cell_type": "code",
   "execution_count": 16,
   "metadata": {
    "collapsed": true
   },
   "outputs": [],
   "source": [
    "import numpy as np\n",
    "import pandas as pd"
   ]
  },
  {
   "cell_type": "markdown",
   "metadata": {},
   "source": [
    "First of all we have to load the data in pandas dataframe using read_csv function."
   ]
  },
  {
   "cell_type": "code",
   "execution_count": 17,
   "metadata": {
    "_cell_guid": "a84b8579-f2cb-471f-9493-e4fa50f4dccc",
    "_uuid": "963cf686774be297e0d239cd586fc4a66393bc15"
   },
   "outputs": [
    {
     "data": {
      "text/html": [
       "<div>\n",
       "<style>\n",
       "    .dataframe thead tr:only-child th {\n",
       "        text-align: right;\n",
       "    }\n",
       "\n",
       "    .dataframe thead th {\n",
       "        text-align: left;\n",
       "    }\n",
       "\n",
       "    .dataframe tbody tr th {\n",
       "        vertical-align: top;\n",
       "    }\n",
       "</style>\n",
       "<table border=\"1\" class=\"dataframe\">\n",
       "  <thead>\n",
       "    <tr style=\"text-align: right;\">\n",
       "      <th></th>\n",
       "      <th>label</th>\n",
       "      <th>pixel0</th>\n",
       "      <th>pixel1</th>\n",
       "      <th>pixel2</th>\n",
       "      <th>pixel3</th>\n",
       "      <th>pixel4</th>\n",
       "      <th>pixel5</th>\n",
       "      <th>pixel6</th>\n",
       "      <th>pixel7</th>\n",
       "      <th>pixel8</th>\n",
       "      <th>...</th>\n",
       "      <th>pixel774</th>\n",
       "      <th>pixel775</th>\n",
       "      <th>pixel776</th>\n",
       "      <th>pixel777</th>\n",
       "      <th>pixel778</th>\n",
       "      <th>pixel779</th>\n",
       "      <th>pixel780</th>\n",
       "      <th>pixel781</th>\n",
       "      <th>pixel782</th>\n",
       "      <th>pixel783</th>\n",
       "    </tr>\n",
       "  </thead>\n",
       "  <tbody>\n",
       "    <tr>\n",
       "      <th>0</th>\n",
       "      <td>1</td>\n",
       "      <td>0</td>\n",
       "      <td>0</td>\n",
       "      <td>0</td>\n",
       "      <td>0</td>\n",
       "      <td>0</td>\n",
       "      <td>0</td>\n",
       "      <td>0</td>\n",
       "      <td>0</td>\n",
       "      <td>0</td>\n",
       "      <td>...</td>\n",
       "      <td>0</td>\n",
       "      <td>0</td>\n",
       "      <td>0</td>\n",
       "      <td>0</td>\n",
       "      <td>0</td>\n",
       "      <td>0</td>\n",
       "      <td>0</td>\n",
       "      <td>0</td>\n",
       "      <td>0</td>\n",
       "      <td>0</td>\n",
       "    </tr>\n",
       "    <tr>\n",
       "      <th>1</th>\n",
       "      <td>0</td>\n",
       "      <td>0</td>\n",
       "      <td>0</td>\n",
       "      <td>0</td>\n",
       "      <td>0</td>\n",
       "      <td>0</td>\n",
       "      <td>0</td>\n",
       "      <td>0</td>\n",
       "      <td>0</td>\n",
       "      <td>0</td>\n",
       "      <td>...</td>\n",
       "      <td>0</td>\n",
       "      <td>0</td>\n",
       "      <td>0</td>\n",
       "      <td>0</td>\n",
       "      <td>0</td>\n",
       "      <td>0</td>\n",
       "      <td>0</td>\n",
       "      <td>0</td>\n",
       "      <td>0</td>\n",
       "      <td>0</td>\n",
       "    </tr>\n",
       "    <tr>\n",
       "      <th>2</th>\n",
       "      <td>1</td>\n",
       "      <td>0</td>\n",
       "      <td>0</td>\n",
       "      <td>0</td>\n",
       "      <td>0</td>\n",
       "      <td>0</td>\n",
       "      <td>0</td>\n",
       "      <td>0</td>\n",
       "      <td>0</td>\n",
       "      <td>0</td>\n",
       "      <td>...</td>\n",
       "      <td>0</td>\n",
       "      <td>0</td>\n",
       "      <td>0</td>\n",
       "      <td>0</td>\n",
       "      <td>0</td>\n",
       "      <td>0</td>\n",
       "      <td>0</td>\n",
       "      <td>0</td>\n",
       "      <td>0</td>\n",
       "      <td>0</td>\n",
       "    </tr>\n",
       "    <tr>\n",
       "      <th>3</th>\n",
       "      <td>4</td>\n",
       "      <td>0</td>\n",
       "      <td>0</td>\n",
       "      <td>0</td>\n",
       "      <td>0</td>\n",
       "      <td>0</td>\n",
       "      <td>0</td>\n",
       "      <td>0</td>\n",
       "      <td>0</td>\n",
       "      <td>0</td>\n",
       "      <td>...</td>\n",
       "      <td>0</td>\n",
       "      <td>0</td>\n",
       "      <td>0</td>\n",
       "      <td>0</td>\n",
       "      <td>0</td>\n",
       "      <td>0</td>\n",
       "      <td>0</td>\n",
       "      <td>0</td>\n",
       "      <td>0</td>\n",
       "      <td>0</td>\n",
       "    </tr>\n",
       "    <tr>\n",
       "      <th>4</th>\n",
       "      <td>0</td>\n",
       "      <td>0</td>\n",
       "      <td>0</td>\n",
       "      <td>0</td>\n",
       "      <td>0</td>\n",
       "      <td>0</td>\n",
       "      <td>0</td>\n",
       "      <td>0</td>\n",
       "      <td>0</td>\n",
       "      <td>0</td>\n",
       "      <td>...</td>\n",
       "      <td>0</td>\n",
       "      <td>0</td>\n",
       "      <td>0</td>\n",
       "      <td>0</td>\n",
       "      <td>0</td>\n",
       "      <td>0</td>\n",
       "      <td>0</td>\n",
       "      <td>0</td>\n",
       "      <td>0</td>\n",
       "      <td>0</td>\n",
       "    </tr>\n",
       "  </tbody>\n",
       "</table>\n",
       "<p>5 rows × 785 columns</p>\n",
       "</div>"
      ],
      "text/plain": [
       "   label  pixel0  pixel1  pixel2  pixel3  pixel4  pixel5  pixel6  pixel7  \\\n",
       "0      1       0       0       0       0       0       0       0       0   \n",
       "1      0       0       0       0       0       0       0       0       0   \n",
       "2      1       0       0       0       0       0       0       0       0   \n",
       "3      4       0       0       0       0       0       0       0       0   \n",
       "4      0       0       0       0       0       0       0       0       0   \n",
       "\n",
       "   pixel8    ...     pixel774  pixel775  pixel776  pixel777  pixel778  \\\n",
       "0       0    ...            0         0         0         0         0   \n",
       "1       0    ...            0         0         0         0         0   \n",
       "2       0    ...            0         0         0         0         0   \n",
       "3       0    ...            0         0         0         0         0   \n",
       "4       0    ...            0         0         0         0         0   \n",
       "\n",
       "   pixel779  pixel780  pixel781  pixel782  pixel783  \n",
       "0         0         0         0         0         0  \n",
       "1         0         0         0         0         0  \n",
       "2         0         0         0         0         0  \n",
       "3         0         0         0         0         0  \n",
       "4         0         0         0         0         0  \n",
       "\n",
       "[5 rows x 785 columns]"
      ]
     },
     "execution_count": 17,
     "metadata": {},
     "output_type": "execute_result"
    }
   ],
   "source": [
    "df = pd.read_csv('mnist_data.csv')\n",
    "df.head()"
   ]
  },
  {
   "cell_type": "code",
   "execution_count": 18,
   "metadata": {
    "_cell_guid": "8753d7ca-0fd8-45f7-8ff5-dc593210bd83",
    "_uuid": "9372dd40ed4b6710950e93f95fd7f2270994b35b"
   },
   "outputs": [
    {
     "data": {
      "text/plain": [
       "(42000, 785)"
      ]
     },
     "execution_count": 18,
     "metadata": {},
     "output_type": "execute_result"
    }
   ],
   "source": [
    "df.shape"
   ]
  },
  {
   "cell_type": "markdown",
   "metadata": {},
   "source": [
    "Here we split the data into train and test dataset . We are taking first 40000 exaples in training data and rest 2000 examples to test data."
   ]
  },
  {
   "cell_type": "code",
   "execution_count": 19,
   "metadata": {
    "_cell_guid": "77f723de-5c35-4bac-aeaf-a681de9a3c59",
    "_uuid": "2ecc884e517dec8582bb17aae8bfb4ce34016c65",
    "collapsed": true
   },
   "outputs": [],
   "source": [
    "train_df = df[:40000]\n",
    "test_df = df[40000:]"
   ]
  },
  {
   "cell_type": "markdown",
   "metadata": {},
   "source": [
    "Now we take the label into train_y list and then transform the rest part of the dataframe into a numpy array train_x using as_matrix function. Now we come to very important part of building a neural network model which is normalizing the data.If the data is not normalized MLPClassifier is going to give bad result. "
   ]
  },
  {
   "cell_type": "markdown",
   "metadata": {},
   "source": [
    "  Normalizing this data is much easier because each column value comes between 0 to 255 (because this is a greyscale image dataset) .So we divide each column by 255."
   ]
  },
  {
   "cell_type": "code",
   "execution_count": 20,
   "metadata": {
    "_cell_guid": "c603d531-854d-4629-8ad7-8a845944c8d7",
    "_uuid": "d9ae322206741b90e8feccd3d0f7434a02317462",
    "collapsed": true
   },
   "outputs": [],
   "source": [
    "train_y = train_df['label'].values\n",
    "del train_df['label']\n",
    "train_x = train_df.as_matrix()\n",
    "train_x = train_x/255"
   ]
  },
  {
   "cell_type": "markdown",
   "metadata": {},
   "source": [
    "WE call the MLPClassifier form sklearn.neural_network. To use this MLPClassifier ,we must first tune the hyperparameters of this calssifier.\n",
    "WE use a single hidden layer neural network of size = 50. Solver is 'sgd'(i.e. Stochastic Gradient Descent).In this case 'sgd' works well and even much better than 'lbfgs'(i.e. Batch Gradient Descent).'sgd' is very fast as it uses only one example as each iteration."
   ]
  },
  {
   "cell_type": "markdown",
   "metadata": {},
   "source": [
    "Activation unit that we used here is 'relu' function for the hidden layers and 'sigmoid' for the final output layer. Learining rate is initialized at 0.1 . We use verbose attribute to show our progress at each iteration and max_iter is set to 100."
   ]
  },
  {
   "cell_type": "code",
   "execution_count": 21,
   "metadata": {
    "_cell_guid": "f68630c4-d95f-459d-9a41-e29388b62617",
    "_uuid": "117099d2dc343c45adc5cde9815f98344064aaf3"
   },
   "outputs": [
    {
     "name": "stdout",
     "output_type": "stream",
     "text": [
      "Iteration 1, loss = 0.37294272\n",
      "Iteration 2, loss = 0.17731458\n",
      "Iteration 3, loss = 0.13154947\n",
      "Iteration 4, loss = 0.10633254\n",
      "Iteration 5, loss = 0.08989349\n",
      "Iteration 6, loss = 0.07684967\n",
      "Iteration 7, loss = 0.06569342\n",
      "Iteration 8, loss = 0.05912200\n",
      "Iteration 9, loss = 0.05139937\n",
      "Iteration 10, loss = 0.04653936\n",
      "Iteration 11, loss = 0.04064411\n",
      "Iteration 12, loss = 0.03648653\n",
      "Iteration 13, loss = 0.03360787\n",
      "Iteration 14, loss = 0.02979791\n",
      "Iteration 15, loss = 0.02548382\n",
      "Iteration 16, loss = 0.02274681\n",
      "Iteration 17, loss = 0.02133878\n",
      "Iteration 18, loss = 0.01798523\n",
      "Iteration 19, loss = 0.01611862\n",
      "Iteration 20, loss = 0.01394088\n",
      "Iteration 21, loss = 0.01268017\n",
      "Iteration 22, loss = 0.01052363\n",
      "Iteration 23, loss = 0.00939023\n",
      "Iteration 24, loss = 0.00799984\n",
      "Iteration 25, loss = 0.00741924\n",
      "Iteration 26, loss = 0.00687692\n",
      "Iteration 27, loss = 0.00558459\n",
      "Iteration 28, loss = 0.00511886\n",
      "Iteration 29, loss = 0.00431000\n",
      "Iteration 30, loss = 0.00391124\n",
      "Iteration 31, loss = 0.00351071\n",
      "Iteration 32, loss = 0.00332745\n",
      "Iteration 33, loss = 0.00297813\n",
      "Iteration 34, loss = 0.00282981\n",
      "Iteration 35, loss = 0.00262927\n",
      "Iteration 36, loss = 0.00253147\n",
      "Iteration 37, loss = 0.00233933\n",
      "Iteration 38, loss = 0.00230328\n",
      "Iteration 39, loss = 0.00211394\n",
      "Iteration 40, loss = 0.00206317\n",
      "Iteration 41, loss = 0.00197210\n",
      "Iteration 42, loss = 0.00197839\n",
      "Training loss did not improve more than tol=0.000100 for two consecutive epochs. Stopping.\n",
      "Loss after training the classifier = 0.0019783939938\n"
     ]
    }
   ],
   "source": [
    "from sklearn.neural_network import MLPClassifier\n",
    "clf = MLPClassifier(hidden_layer_sizes=(50,),solver='sgd',verbose=1,learning_rate_init=.1,max_iter=100,activation='relu',random_state=1)\n",
    "clf.fit(train_x,train_y)\n",
    "print('Loss after training the classifier = '+str(clf.loss_))"
   ]
  },
  {
   "cell_type": "code",
   "execution_count": 22,
   "metadata": {
    "_cell_guid": "4396851d-b058-4756-8204-f6a7e6dc4a62",
    "_uuid": "455df93e0b82eff76126427d6098b47ddda7443f"
   },
   "outputs": [
    {
     "name": "stdout",
     "output_type": "stream",
     "text": [
      "Accuracy of the classifier on Training data = 1.0\n"
     ]
    }
   ],
   "source": [
    "print(\"Accuracy of the classifier on Training data = \"+str(clf.score(train_x,train_y)))"
   ]
  },
  {
   "cell_type": "code",
   "execution_count": 23,
   "metadata": {
    "_cell_guid": "495d3705-e3cc-4401-805d-311f6aec6008",
    "_uuid": "04b797f22555153fc61de0582d6fba7ef815af45",
    "collapsed": true
   },
   "outputs": [],
   "source": [
    "test_y = test_df['label'].values\n",
    "del test_df['label']\n",
    "test_x = test_df.as_matrix()\n",
    "test_x = test_x/255"
   ]
  },
  {
   "cell_type": "code",
   "execution_count": 24,
   "metadata": {
    "_cell_guid": "5eb4be75-d472-42e4-9767-8d1902c100e5",
    "_uuid": "15c161e9d5846ae8117d48e9a0693ecfa4479e5e"
   },
   "outputs": [
    {
     "name": "stdout",
     "output_type": "stream",
     "text": [
      "Accuracy of the classifier on Test data = 0.9715\n"
     ]
    }
   ],
   "source": [
    "print(\"Accuracy of the classifier on Test data = \"+str(clf.score(test_x,test_y)))"
   ]
  },
  {
   "cell_type": "code",
   "execution_count": null,
   "metadata": {
    "_cell_guid": "570ae3be-3d9b-4b7e-9efa-376ecd2a523e",
    "_uuid": "651d12804d5e813d9d41e99c6e77a225089219ba",
    "collapsed": true
   },
   "outputs": [],
   "source": []
  }
 ],
 "metadata": {
  "kernelspec": {
   "display_name": "Python 3",
   "language": "python",
   "name": "python3"
  },
  "language_info": {
   "codemirror_mode": {
    "name": "ipython",
    "version": 3
   },
   "file_extension": ".py",
   "mimetype": "text/x-python",
   "name": "python",
   "nbconvert_exporter": "python",
   "pygments_lexer": "ipython3",
   "version": "3.6.1"
  }
 },
 "nbformat": 4,
 "nbformat_minor": 1
}
